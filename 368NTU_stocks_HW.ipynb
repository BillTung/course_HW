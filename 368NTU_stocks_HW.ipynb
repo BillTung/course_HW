{
 "cells": [
  {
   "cell_type": "code",
   "execution_count": 1,
   "id": "d2fb1db1",
   "metadata": {},
   "outputs": [],
   "source": [
    "import xlwings as xw\n",
    "import pandas as pd\n",
    "import requests\n",
    "import time\n",
    "wb = xw.Book()\n",
    "stocks = [\"2330\" , \"4938\", \"3231\",\"00878\", \"2883\"]\n",
    "headers = [\"股票代號\", \"最近5年平均合計殖利率%\"]\n",
    "line_token = \"your token\"\n",
    "\n",
    "for stock in stocks:\n",
    "    tables = pd.read_html(f\"https://www.stockinfo.tw/?stockSearch={stock}\")\n",
    "    df = tables[1]\n",
    "    df2 = df.set_index(\"除權息日\")\n",
    "    new_sheet = wb.sheets.add(name=stock)\n",
    "    new_sheet.range(\"A1\").value = df2\n",
    "    new_sheet.range(\"M1\").value = \"最近5年平均合計殖利率\"\n",
    "    new_sheet.range(\"M2\").formula = \"=AVERAGE(G2:G6)\"\n",
    "new_sheet2 = wb.sheets.add(name=\"彙整近五年殖利率\")\n",
    "new_sheet2.range(\"A1\").value = headers\n",
    "j = 2\n",
    "for i in stocks:\n",
    "    new_sheet2.range(f\"A{j}\").value = i\n",
    "    new_sheet2.range(f\"B{j}\").value = wb.sheets[f\"{i}\"].range(\"M2\").value * 100\n",
    "    j += 1\n",
    "\n",
    "\n",
    "#DataFrame 匯入台股 現金+股票股利 >= 2.5元 & 目前股價<=100元 csv 數據\n",
    "df3 = pd.read_csv(r\"神秘金字塔 - 股利連續配發排行.csv\")\n",
    "\n",
    "#先計算2020 年的現金殖利率\n",
    "df3[\"殖利率%\"] = df3[\"2020\"] / df3[\"收盤價\"] * 100\n",
    "\n",
    "#篩選殖利率高排到低\n",
    "df4 = df3[[\"股票\", \"2020\",  \"殖利率%\", \"收盤價\"]].sort_values(\"殖利率%\", ascending=False)\n",
    "new_sheet3 = wb.sheets.add(name=\"2020殖利率%股票\")\n",
    "new_sheet3.range(\"A1\").value = df4\n",
    "wb.save(\"近期觀察股票殖利率彙整表及2020殖利率股票篩選.xlsx\")\n",
    "wb.close()\n",
    "\n",
    "# Line Notify\n",
    "line_url = \"https://notify-api.line.me/api/notify\"\n",
    "\n",
    "headers = {\n",
    "    \"Authorization\": \"Bearer \" + line_token, \n",
    "    \"Content-Type\" : \"application/x-www-form-urlencoded\"\n",
    "}\n",
    "\n",
    "msg = f\"董先生: {time.strftime('%Y/%m/%d')} 您關心的股票殖利率已經更新完畢！\"\n",
    "\n",
    "payload = {'message': msg }\n",
    "r = requests.post(line_url, headers = headers, params = payload)"
   ]
  },
  {
   "cell_type": "code",
   "execution_count": null,
   "id": "f6a2f1a4",
   "metadata": {},
   "outputs": [],
   "source": []
  },
  {
   "cell_type": "code",
   "execution_count": null,
   "id": "cfebf37e",
   "metadata": {
    "scrolled": true
   },
   "outputs": [],
   "source": []
  },
  {
   "cell_type": "code",
   "execution_count": null,
   "id": "54d58bd6",
   "metadata": {},
   "outputs": [],
   "source": []
  },
  {
   "cell_type": "code",
   "execution_count": null,
   "id": "0e5c026e",
   "metadata": {},
   "outputs": [],
   "source": []
  },
  {
   "cell_type": "code",
   "execution_count": 32,
   "id": "677b46af",
   "metadata": {},
   "outputs": [],
   "source": []
  },
  {
   "cell_type": "code",
   "execution_count": null,
   "id": "7fccb173",
   "metadata": {},
   "outputs": [],
   "source": []
  },
  {
   "cell_type": "code",
   "execution_count": null,
   "id": "f6fa13ed",
   "metadata": {},
   "outputs": [],
   "source": []
  },
  {
   "cell_type": "code",
   "execution_count": null,
   "id": "7d6aa251",
   "metadata": {},
   "outputs": [],
   "source": []
  },
  {
   "cell_type": "code",
   "execution_count": null,
   "id": "63c1a4be",
   "metadata": {},
   "outputs": [],
   "source": []
  }
 ],
 "metadata": {
  "kernelspec": {
   "display_name": "Python 3 (ipykernel)",
   "language": "python",
   "name": "python3"
  },
  "language_info": {
   "codemirror_mode": {
    "name": "ipython",
    "version": 3
   },
   "file_extension": ".py",
   "mimetype": "text/x-python",
   "name": "python",
   "nbconvert_exporter": "python",
   "pygments_lexer": "ipython3",
   "version": "3.9.12"
  }
 },
 "nbformat": 4,
 "nbformat_minor": 5
}
