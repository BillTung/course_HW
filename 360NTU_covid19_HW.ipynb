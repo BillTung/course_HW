{
 "cells": [
  {
   "cell_type": "code",
   "execution_count": 126,
   "id": "e74a50c6",
   "metadata": {
    "scrolled": false
   },
   "outputs": [
    {
     "name": "stdout",
     "output_type": "stream",
     "text": [
      "檔案較大請耐心等候...\n"
     ]
    }
   ],
   "source": [
    "import xlwings as xw\n",
    "import pandas as pd\n",
    "print(\"檔案較大請耐心等候...\")\n",
    "df = pd.read_csv(\"https://od.cdc.gov.tw/eic/Weekly_Confirmation_Age_County_Gender_19CoV.csv\")\n",
    "df.to_csv(\"國內Covid19確診人數原始資料2020~2022留存.csv\",encoding=\"utf_8_sig\")        #原始資料備份,儲存CSV檔\n",
    "\n",
    "df1 = df[df[\"是否為境外移入\"].isin([\"否\"])]               #篩選國內確診案例\n",
    "df2 = df1[df1[\"研判年份\"].isin([2022])]                  #篩選2022年案例\n",
    "df3 = df2[[\"縣市\",\"確定病例數\"]].groupby(\"縣市\").sum()    # by 縣市別加總確診總數\n",
    "df3[\"比例%\"] = df3[\"確定病例數\"] * 100 / df3[\"確定病例數\"].sum()  #計算各縣市的確診比例\n",
    "df3 = df3.sort_values(\"比例%\", ascending=False)                 #排序 確診比例多到少\n",
    "df3.to_csv(\"國內Covid19 2022年確診資料解析.csv\",encoding=\"utf_8_sig\") #將各縣市確診比例匯出 csv檔\n",
    "\n",
    "df4 = df2[[\"性別\",\"確定病例數\"]].groupby(\"性別\").sum()           #by 性別加總確診總數\n",
    "df4 = df4.head(2)                                              \n",
    "df4[\"男女比例%\"] = df4[\"確定病例數\"] * 100 / df4[\"確定病例數\"].sum()  #計算男/女確診比例\n",
    "wb = xw.Book(\"國內Covid19 2022年確診資料解析.csv\")                    #開啟原先匯出的csv檔\n",
    "sheet1 = wb.sheets[\"國內Covid19 2022年確診資料解析\"]                  #指定頁籤\n",
    "sheet1.range(\"E1\").value = df4                                     #將男/女確診數及各佔比寫到 E1 儲存格\n",
    "\n",
    "df5 = df2[[\"年齡層\",\"確定病例數\"]].groupby(\"年齡層\").sum()           #by 年齡層加總確診數\n",
    "df5[\"比例%\"] = df5[\"確定病例數\"] * 100 / df5[\"確定病例數\"].sum()     #計算各年齡層的確診比例\n",
    "df5 = df5.sort_values(\"確定病例數\", ascending=False)                #排序 確診數多~少\n",
    "df5 = df5.head(5)                                                  #僅show出,前5多確診數的年齡層 \n",
    "sheet1 = wb.sheets[\"國內Covid19 2022年確診資料解析\"]                  #指定頁籤\n",
    "sheet1.range(\"I1\").value = df5                                     #將男/女確診數及各佔比寫到 I1 儲存格\n",
    "\n",
    "wb.save(\"國內Covid19 2022年確診資料解析.csv\") #儲存CSV檔\n"
   ]
  },
  {
   "cell_type": "code",
   "execution_count": null,
   "id": "47f9fba0",
   "metadata": {},
   "outputs": [],
   "source": []
  },
  {
   "cell_type": "code",
   "execution_count": null,
   "id": "ca7da2b9",
   "metadata": {},
   "outputs": [],
   "source": []
  },
  {
   "cell_type": "code",
   "execution_count": null,
   "id": "1c047bd2",
   "metadata": {},
   "outputs": [],
   "source": []
  }
 ],
 "metadata": {
  "kernelspec": {
   "display_name": "Python 3 (ipykernel)",
   "language": "python",
   "name": "python3"
  },
  "language_info": {
   "codemirror_mode": {
    "name": "ipython",
    "version": 3
   },
   "file_extension": ".py",
   "mimetype": "text/x-python",
   "name": "python",
   "nbconvert_exporter": "python",
   "pygments_lexer": "ipython3",
   "version": "3.9.12"
  }
 },
 "nbformat": 4,
 "nbformat_minor": 5
}
